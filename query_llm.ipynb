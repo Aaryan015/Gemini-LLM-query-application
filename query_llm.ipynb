{
  "nbformat": 4,
  "nbformat_minor": 0,
  "metadata": {
    "colab": {
      "provenance": [],
      "authorship_tag": "ABX9TyPtxsXFFpIOJ1EFMBIiQ3Vz"
    },
    "kernelspec": {
      "name": "python3",
      "display_name": "Python 3"
    },
    "language_info": {
      "name": "python"
    }
  },
  "cells": [
    {
      "cell_type": "markdown",
      "source": [
        "**1. Set Up API Credentials:**\n",
        "- Google Generative AI API\n",
        "- Obtain your API key from the Google AI Studio.\n",
        "- Store the API key in your Google Colab environment in the 'secrets' section\n",
        "- Set the secret name as ```'API_KEY'``` with the secret key value which you've created.\n",
        "\n",
        "**2. Run the Application:**\n",
        "- Simply run the cells sequentially.\n",
        "\n",
        "**3. Testing the Application:**\n",
        "- Enter sample user queries into the application to test its functionality. For Example:\n",
        "\n",
        "  ```user_query = \"Get me Flipkart's GMV for the last one year.\"```"
      ],
      "metadata": {
        "id": "OE1MkMrQks-u"
      }
    },
    {
      "cell_type": "code",
      "execution_count": null,
      "metadata": {
        "colab": {
          "base_uri": "https://localhost:8080/"
        },
        "id": "aRBSZ1TQXJ4j",
        "outputId": "4c27263e-f1f2-4235-d105-f7bad679c16b"
      },
      "outputs": [
        {
          "output_type": "stream",
          "name": "stdout",
          "text": [
            "Requirement already satisfied: google-generativeai in /usr/local/lib/python3.10/dist-packages (0.7.2)\n",
            "Requirement already satisfied: google-ai-generativelanguage==0.6.6 in /usr/local/lib/python3.10/dist-packages (from google-generativeai) (0.6.6)\n",
            "Requirement already satisfied: google-api-core in /usr/local/lib/python3.10/dist-packages (from google-generativeai) (2.19.1)\n",
            "Requirement already satisfied: google-api-python-client in /usr/local/lib/python3.10/dist-packages (from google-generativeai) (2.137.0)\n",
            "Requirement already satisfied: google-auth>=2.15.0 in /usr/local/lib/python3.10/dist-packages (from google-generativeai) (2.27.0)\n",
            "Requirement already satisfied: protobuf in /usr/local/lib/python3.10/dist-packages (from google-generativeai) (3.20.3)\n",
            "Requirement already satisfied: pydantic in /usr/local/lib/python3.10/dist-packages (from google-generativeai) (2.8.2)\n",
            "Requirement already satisfied: tqdm in /usr/local/lib/python3.10/dist-packages (from google-generativeai) (4.66.5)\n",
            "Requirement already satisfied: typing-extensions in /usr/local/lib/python3.10/dist-packages (from google-generativeai) (4.12.2)\n",
            "Requirement already satisfied: proto-plus<2.0.0dev,>=1.22.3 in /usr/local/lib/python3.10/dist-packages (from google-ai-generativelanguage==0.6.6->google-generativeai) (1.24.0)\n",
            "Requirement already satisfied: googleapis-common-protos<2.0.dev0,>=1.56.2 in /usr/local/lib/python3.10/dist-packages (from google-api-core->google-generativeai) (1.63.2)\n",
            "Requirement already satisfied: requests<3.0.0.dev0,>=2.18.0 in /usr/local/lib/python3.10/dist-packages (from google-api-core->google-generativeai) (2.32.3)\n",
            "Requirement already satisfied: cachetools<6.0,>=2.0.0 in /usr/local/lib/python3.10/dist-packages (from google-auth>=2.15.0->google-generativeai) (5.4.0)\n",
            "Requirement already satisfied: pyasn1-modules>=0.2.1 in /usr/local/lib/python3.10/dist-packages (from google-auth>=2.15.0->google-generativeai) (0.4.0)\n",
            "Requirement already satisfied: rsa<5,>=3.1.4 in /usr/local/lib/python3.10/dist-packages (from google-auth>=2.15.0->google-generativeai) (4.9)\n",
            "Requirement already satisfied: httplib2<1.dev0,>=0.19.0 in /usr/local/lib/python3.10/dist-packages (from google-api-python-client->google-generativeai) (0.22.0)\n",
            "Requirement already satisfied: google-auth-httplib2<1.0.0,>=0.2.0 in /usr/local/lib/python3.10/dist-packages (from google-api-python-client->google-generativeai) (0.2.0)\n",
            "Requirement already satisfied: uritemplate<5,>=3.0.1 in /usr/local/lib/python3.10/dist-packages (from google-api-python-client->google-generativeai) (4.1.1)\n",
            "Requirement already satisfied: annotated-types>=0.4.0 in /usr/local/lib/python3.10/dist-packages (from pydantic->google-generativeai) (0.7.0)\n",
            "Requirement already satisfied: pydantic-core==2.20.1 in /usr/local/lib/python3.10/dist-packages (from pydantic->google-generativeai) (2.20.1)\n",
            "Requirement already satisfied: grpcio<2.0dev,>=1.33.2 in /usr/local/lib/python3.10/dist-packages (from google-api-core[grpc]!=2.0.*,!=2.1.*,!=2.10.*,!=2.2.*,!=2.3.*,!=2.4.*,!=2.5.*,!=2.6.*,!=2.7.*,!=2.8.*,!=2.9.*,<3.0.0dev,>=1.34.1->google-ai-generativelanguage==0.6.6->google-generativeai) (1.64.1)\n",
            "Requirement already satisfied: grpcio-status<2.0.dev0,>=1.33.2 in /usr/local/lib/python3.10/dist-packages (from google-api-core[grpc]!=2.0.*,!=2.1.*,!=2.10.*,!=2.2.*,!=2.3.*,!=2.4.*,!=2.5.*,!=2.6.*,!=2.7.*,!=2.8.*,!=2.9.*,<3.0.0dev,>=1.34.1->google-ai-generativelanguage==0.6.6->google-generativeai) (1.48.2)\n",
            "Requirement already satisfied: pyparsing!=3.0.0,!=3.0.1,!=3.0.2,!=3.0.3,<4,>=2.4.2 in /usr/local/lib/python3.10/dist-packages (from httplib2<1.dev0,>=0.19.0->google-api-python-client->google-generativeai) (3.1.2)\n",
            "Requirement already satisfied: pyasn1<0.7.0,>=0.4.6 in /usr/local/lib/python3.10/dist-packages (from pyasn1-modules>=0.2.1->google-auth>=2.15.0->google-generativeai) (0.6.0)\n",
            "Requirement already satisfied: charset-normalizer<4,>=2 in /usr/local/lib/python3.10/dist-packages (from requests<3.0.0.dev0,>=2.18.0->google-api-core->google-generativeai) (3.3.2)\n",
            "Requirement already satisfied: idna<4,>=2.5 in /usr/local/lib/python3.10/dist-packages (from requests<3.0.0.dev0,>=2.18.0->google-api-core->google-generativeai) (3.7)\n",
            "Requirement already satisfied: urllib3<3,>=1.21.1 in /usr/local/lib/python3.10/dist-packages (from requests<3.0.0.dev0,>=2.18.0->google-api-core->google-generativeai) (2.0.7)\n",
            "Requirement already satisfied: certifi>=2017.4.17 in /usr/local/lib/python3.10/dist-packages (from requests<3.0.0.dev0,>=2.18.0->google-api-core->google-generativeai) (2024.7.4)\n",
            "Requirement already satisfied: dateparser in /usr/local/lib/python3.10/dist-packages (1.2.0)\n",
            "Requirement already satisfied: python-dateutil in /usr/local/lib/python3.10/dist-packages (from dateparser) (2.8.2)\n",
            "Requirement already satisfied: pytz in /usr/local/lib/python3.10/dist-packages (from dateparser) (2024.1)\n",
            "Requirement already satisfied: regex!=2019.02.19,!=2021.8.27 in /usr/local/lib/python3.10/dist-packages (from dateparser) (2024.5.15)\n",
            "Requirement already satisfied: tzlocal in /usr/local/lib/python3.10/dist-packages (from dateparser) (5.2)\n",
            "Requirement already satisfied: six>=1.5 in /usr/local/lib/python3.10/dist-packages (from python-dateutil->dateparser) (1.16.0)\n",
            "Requirement already satisfied: python-dotenv in /usr/local/lib/python3.10/dist-packages (1.0.1)\n"
          ]
        }
      ],
      "source": [
        "!pip install google-generativeai\n",
        "!pip install dateparser\n",
        "!pip install python-dotenv"
      ]
    },
    {
      "cell_type": "code",
      "source": [
        "import os\n",
        "from google.colab import userdata\n",
        "import google.generativeai as genai\n",
        "from datetime import datetime, timedelta\n",
        "import json\n",
        "\n",
        "# Set the GEMINI_API_KEY\n",
        "os.environ['API_KEY'] = userdata.get('API_KEY')\n",
        "\n",
        "# Configure Google Gemini API\n",
        "genai.configure(api_key=os.environ[\"API_KEY\"])\n",
        "\n",
        "# Set generation configuration\n",
        "generation_config = {\n",
        "    \"temperature\": 0.5,\n",
        "    \"top_p\": 0.95,\n",
        "    \"top_k\": 64,\n",
        "    \"max_output_tokens\": 8192,\n",
        "    \"response_mime_type\": \"application/json\",\n",
        "}\n",
        "\n",
        "# Create the model\n",
        "model = genai.GenerativeModel(\n",
        "  model_name=\"gemini-1.5-pro\",\n",
        "  generation_config=generation_config,\n",
        "  # safety_settings = Adjust safety settings\n",
        "  # See https://ai.google.dev/gemini-api/docs/safety-settings\n",
        "  system_instruction=\"The application should be able to extract the following information from user queries:\\n- Entity: The company name mentioned in the query (e.g., Flipkart, Amazon).\\n- Parameter: The performance metric mentioned in the query (e.g., GMV, revenue, profit).\\n- Start Date: The start date of the time period for which the metric is requested.\\n- End Date: The end date of the time period for which the metric is requested.\\n1. If the user query does not explicitly mention the start date and/or end date, assume the following defaults:\\n- Start Date: Today's date minus one year.\\n- End Date: Today's date.\\n2. The extracted information should be converted into a JSON format with the following structure:\\n[\\n  {\\n    \\\"entity\\\": \\\"Flipkart\\\",\\n    \\\"parameter\\\": \\\"GMV\\\",\\n    \\\"startDate\\\": \\\"2023-05-02\\\",\\n    \\\"endDate\\\": \\\"2024-05-02\\\"\\n  },\\n  {\\n    \\\"entity\\\": \\\"Amazon\\\",\\n    \\\"parameter\\\": \\\"GMV\\\",\\n    \\\"startDate\\\": \\\"2023-05-02\\\",\\n    \\\"endDate\\\": \\\"2024-05-02\\\"\\n  }\\n]\\n3. If the user query mentions multiple companies or requests a comparison, the JSON output should include multiple objects, one for each company mentioned.\\n4. The start date and end date should be converted to the ISO 8601 format (YYYY-MM-DD) before including them in the JSON output.\\nAdditional Considerations:\\n- Handle variations in user queries, such as different spellings or abbreviations of company names and metric parameters.\\n- Consider adding support for additional date formats or relative date ranges (e.g., \\\"last quarter\\\", \\\"previous month\\\").\",\n",
        ")\n",
        "\n",
        "# Get the response from the model\n",
        "def process_query(user_query):\n",
        "  chat_session = model.start_chat(\n",
        "    history=[\n",
        "    {\n",
        "      \"role\": \"user\",\n",
        "      \"parts\": [\n",
        "        \"get me Flipkart's GMV for the last one year\",\n",
        "      ],\n",
        "    },\n",
        "    {\n",
        "      \"role\": \"model\",\n",
        "      \"parts\": [\n",
        "        \"```json\\n[{\\\"entity\\\": \\\"Flipkart\\\", \\\"parameter\\\": \\\"GMV\\\", \\\"startDate\\\": \\\"2023-05-03\\\", \\\"endDate\\\": \\\"2024-05-03\\\"}]\\n\\n```\",\n",
        "      ],\n",
        "    },\n",
        "    {\n",
        "      \"role\": \"user\",\n",
        "      \"parts\": [\n",
        "        \"get me Amazon's GMV\",\n",
        "      ],\n",
        "    },\n",
        "    {\n",
        "      \"role\": \"model\",\n",
        "      \"parts\": [\n",
        "        \"```json\\n[{\\\"entity\\\": \\\"Amazon\\\", \\\"parameter\\\": \\\"GMV\\\", \\\"startDate\\\": \\\"2023-05-03\\\", \\\"endDate\\\": \\\"2024-05-03\\\"}]\\n\\n```\",\n",
        "      ],\n",
        "    },\n",
        "    {\n",
        "      \"role\": \"user\",\n",
        "      \"parts\": [\n",
        "        \"compare both\",\n",
        "      ],\n",
        "    },\n",
        "    {\n",
        "      \"role\": \"model\",\n",
        "      \"parts\": [\n",
        "        \"```json\\n[{\\\"entity\\\": \\\"Flipkart\\\", \\\"parameter\\\": \\\"GMV\\\", \\\"startDate\\\": \\\"2023-05-03\\\", \\\"endDate\\\": \\\"2024-05-03\\\"}, {\\\"entity\\\": \\\"Amazon\\\", \\\"parameter\\\": \\\"GMV\\\", \\\"startDate\\\": \\\"2023-05-03\\\", \\\"endDate\\\": \\\"2024-05-03\\\"}]\\n\\n```\",\n",
        "      ],\n",
        "    },\n",
        "  ]\n",
        ")\n",
        "\n",
        "  response = chat_session.send_message(user_query)\n",
        "\n",
        "  # Parse and return the JSON from the response\n",
        "  response_json = json.loads(response.text)  # Assuming response.text is JSON formatted\n",
        "  return response_json\n",
        "\n",
        "# Example user query\n",
        "user_query = input()\n",
        "\n",
        "# Process the query and print the result\n",
        "result = process_query(user_query)\n",
        "print(json.dumps(result, indent=2))\n"
      ],
      "metadata": {
        "colab": {
          "base_uri": "https://localhost:8080/",
          "height": 398
        },
        "id": "95PotB-Efwoh",
        "outputId": "a2539d91-89b1-4117-eea5-6a895f38577f"
      },
      "execution_count": null,
      "outputs": [
        {
          "output_type": "stream",
          "name": "stdout",
          "text": [
            "Get me Amazon's, Flipkart's and Myntra's GMV\n",
            "[\n",
            "  {\n",
            "    \"entity\": \"Amazon\",\n",
            "    \"parameter\": \"GMV\",\n",
            "    \"startDate\": \"2023-05-03\",\n",
            "    \"endDate\": \"2024-05-03\"\n",
            "  },\n",
            "  {\n",
            "    \"entity\": \"Flipkart\",\n",
            "    \"parameter\": \"GMV\",\n",
            "    \"startDate\": \"2023-05-03\",\n",
            "    \"endDate\": \"2024-05-03\"\n",
            "  },\n",
            "  {\n",
            "    \"entity\": \"Myntra\",\n",
            "    \"parameter\": \"GMV\",\n",
            "    \"startDate\": \"2023-05-03\",\n",
            "    \"endDate\": \"2024-05-03\"\n",
            "  }\n",
            "]\n"
          ]
        }
      ]
    }
  ]
}